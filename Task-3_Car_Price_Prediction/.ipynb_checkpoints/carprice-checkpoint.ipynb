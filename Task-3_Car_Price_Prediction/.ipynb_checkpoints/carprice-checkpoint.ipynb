{
 "cells": [
  {
   "cell_type": "code",
   "execution_count": null,
   "id": "150ca6fc-30c1-4754-8da0-73ba60d32a81",
   "metadata": {},
   "outputs": [],
   "source": [
    "import numpy as np\n",
    "import pandas as pd\n",
    "import matplotlib.pyplot as plt\n",
    "import seaborn as sns\n",
    "from sklearn.model_selection import train_test_split\n",
    "from sklearn.tree import DecisionTreeRegressor\n",
    "\n",
    "data = pd.read_csv(\"CarPrice.csv\")\n",
    "data.head()"
   ]
  },
  {
   "cell_type": "code",
   "execution_count": null,
   "id": "89409a03-7b8f-4dc8-92e2-6bdaa2ac1bb8",
   "metadata": {},
   "outputs": [],
   "source": [
    "data.isnull().sum()"
   ]
  },
  {
   "cell_type": "code",
   "execution_count": null,
   "id": "843fc952-bd69-4c45-b4de-bc429fb27b28",
   "metadata": {},
   "outputs": [],
   "source": [
    "data.info()"
   ]
  },
  {
   "cell_type": "code",
   "execution_count": null,
   "id": "03fab39c-1566-4223-94b6-87532607b5d7",
   "metadata": {},
   "outputs": [],
   "source": [
    "data.CarName.unique()"
   ]
  },
  {
   "cell_type": "code",
   "execution_count": null,
   "id": "e9df7433-9e59-4643-a041-06891c977ef0",
   "metadata": {},
   "outputs": [],
   "source": [
    "sns.set_style(\"whitegrid\")\n",
    "plt.figure(figsize=(15, 10))\n",
    "sns.distplot(data.price)\n",
    "plt.show()"
   ]
  },
  {
   "cell_type": "code",
   "execution_count": null,
   "id": "baf39a3b-d53d-48fb-bb26-037db63dd4be",
   "metadata": {},
   "outputs": [],
   "source": [
    "print(data.corr())"
   ]
  },
  {
   "cell_type": "code",
   "execution_count": null,
   "id": "ecc65160-4cdd-442d-9033-9c044473a039",
   "metadata": {},
   "outputs": [],
   "source": [
    "plt.figure(figsize=(20, 15))\n",
    "correlations = data.corr()\n",
    "sns.heatmap(correlations, cmap=\"coolwarm\", annot=True)\n",
    "plt.show()"
   ]
  },
  {
   "cell_type": "code",
   "execution_count": null,
   "id": "31f8a53a-d9e8-4d05-a152-400635d0eb60",
   "metadata": {},
   "outputs": [],
   "source": [
    "predict = \"price\"\n",
    "data = data[[\"symboling\", \"wheelbase\", \"carlength\", \n",
    "             \"carwidth\", \"carheight\", \"curbweight\", \n",
    "             \"enginesize\", \"boreratio\", \"stroke\", \n",
    "             \"compressionratio\", \"horsepower\", \"peakrpm\", \n",
    "             \"citympg\", \"highwaympg\", \"price\"]]\n",
    "x = np.array(data.drop([predict], 1))\n",
    "y = np.array(data[predict])\n",
    "\n",
    "from sklearn.model_selection import train_test_split\n",
    "xtrain, xtest, ytrain, ytest = train_test_split(x, y, test_size=0.2)\n",
    "\n",
    "from sklearn.tree import DecisionTreeRegressor\n",
    "model = DecisionTreeRegressor()\n",
    "model.fit(xtrain, ytrain)\n",
    "predictions = model.predict(xtest)\n",
    "\n",
    "from sklearn.metrics import mean_absolute_error\n",
    "model.score(xtest, predictions)"
   ]
  }
 ],
 "metadata": {
  "kernelspec": {
   "display_name": "Python 3 (ipykernel)",
   "language": "python",
   "name": "python3"
  },
  "language_info": {
   "codemirror_mode": {
    "name": "ipython",
    "version": 3
   },
   "file_extension": ".py",
   "mimetype": "text/x-python",
   "name": "python",
   "nbconvert_exporter": "python",
   "pygments_lexer": "ipython3",
   "version": "3.9.13"
  }
 },
 "nbformat": 4,
 "nbformat_minor": 5
}
